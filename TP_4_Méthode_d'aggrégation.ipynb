{
  "cells": [
    {
      "cell_type": "markdown",
      "source": [],
      "metadata": {
        "id": "nm6EUKWLa2H_"
      },
      "id": "nm6EUKWLa2H_"
    },
    {
      "cell_type": "markdown",
      "source": [
        "# Bagging"
      ],
      "metadata": {
        "id": "7D33lmClauAm"
      },
      "id": "7D33lmClauAm"
    },
    {
      "cell_type": "code",
      "execution_count": null,
      "id": "7732c7c5",
      "metadata": {
        "id": "7732c7c5"
      },
      "outputs": [],
      "source": [
        "#Load Data\n",
        "from sklearn.datasets import load_digits\n",
        "digits = load_digits()"
      ]
    },
    {
      "cell_type": "code",
      "execution_count": null,
      "id": "9f1edcb5",
      "metadata": {
        "colab": {
          "base_uri": "https://localhost:8080/",
          "height": 78
        },
        "id": "9f1edcb5",
        "outputId": "414c0bfb-5ea3-434b-d84e-7c2b3275154a"
      },
      "outputs": [
        {
          "output_type": "display_data",
          "data": {
            "text/plain": [
              "<Figure size 432x288 with 10 Axes>"
            ],
            "image/png": "[encoded data removed]"
          },
          "metadata": {
            "needs_background": "light"
          }
        }
      ],
      "source": [
        "# Affichage des 10 premières images\n",
        "import matplotlib.pyplot as plt\n",
        "fig = plt.figure()\n",
        "for i, digit in enumerate(digits.images[:10]):\n",
        "    fig.add_subplot(1,10,i+1)\n",
        "    plt.imshow(digit)\n",
        "plt.show()"
      ]
    },
    {
      "cell_type": "code",
      "execution_count": null,
      "id": "10db0fcb",
      "metadata": {
        "id": "10db0fcb"
      },
      "outputs": [],
      "source": [
        "#Import lib\n",
        "import numpy as np\n",
        "from sklearn import tree\n",
        "from sklearn.ensemble import BaggingClassifier"
      ]
    },
    {
      "cell_type": "code",
      "execution_count": null,
      "id": "7f028250",
      "metadata": {
        "colab": {
          "base_uri": "https://localhost:8080/"
        },
        "id": "7f028250",
        "outputId": "4478efd3-1963-4f94-e98c-ac2b1489db1f"
      },
      "outputs": [
        {
          "output_type": "stream",
          "name": "stdout",
          "text": [
            "1.0\n"
          ]
        }
      ],
      "source": [
        "#MODELE ARBRE DE DECISION\n",
        "X, y = digits.data, digits.target\n",
        "clf = tree.DecisionTreeClassifier()\n",
        "clf.fit(X, y)\n",
        "accuracy = clf.score(X,y)\n",
        "print(accuracy)"
      ]
    },
    {
      "cell_type": "code",
      "execution_count": null,
      "id": "7a291a30",
      "metadata": {
        "colab": {
          "base_uri": "https://localhost:8080/"
        },
        "id": "7a291a30",
        "outputId": "96dc87e6-231c-4f4e-c229-19e811695ebc"
      },
      "outputs": [
        {
          "output_type": "stream",
          "name": "stdout",
          "text": [
            "0.7095179233621756\n"
          ]
        }
      ],
      "source": [
        "from sklearn.model_selection import train_test_split\n",
        "# 90% des données pour le test, 10% pour l'apprentissage\n",
        "X_train, X_test, y_train, y_test = train_test_split(X, y, test_size=0.90)\n",
        "clf = tree.DecisionTreeClassifier()\n",
        "clf.fit(X_train, y_train)\n",
        "Z = clf.predict(X_test)\n",
        "accuracy = clf.score(X_test,y_test)\n",
        "print(accuracy)"
      ]
    },
    {
      "cell_type": "code",
      "execution_count": null,
      "id": "5f1ed065",
      "metadata": {
        "colab": {
          "base_uri": "https://localhost:8080/"
        },
        "id": "5f1ed065",
        "outputId": "5bf90b32-dd0c-4c05-e8e3-429a700e5062"
      },
      "outputs": [
        {
          "output_type": "stream",
          "name": "stdout",
          "text": [
            "0.688504326328801\n",
            "0.6835599505562423\n",
            "0.669344870210136\n",
            "0.6681087762669963\n",
            "0.6823238566131026\n",
            "0.6965389369592089\n",
            "0.6891223733003708\n",
            "0.6087762669962917\n",
            "0.6971569839307787\n",
            "0.6909765142150803\n",
            "0.7428924598269468\n",
            "0.6637824474660075\n",
            "0.7058096415327565\n",
            "0.6971569839307787\n",
            "0.6823238566131026\n",
            "0.6891223733003708\n",
            "0.6928306551297899\n",
            "0.65389369592089\n",
            "0.6847960444993819\n",
            "0.6613102595797281\n",
            "0.6928306551297899\n",
            "0.7058096415327565\n",
            "0.695920889987639\n",
            "0.7027194066749073\n",
            "0.6953028430160693\n",
            "0.7082818294190358\n",
            "0.6705809641532756\n",
            "0.6977750309023486\n",
            "0.7095179233621756\n",
            "0.6829419035846724\n",
            "0.6835599505562423\n",
            "0.6823238566131026\n",
            "0.6569839307787392\n",
            "0.6872682323856613\n",
            "0.6940667490729295\n",
            "0.6817058096415327\n",
            "0.6749072929542645\n",
            "0.6650185414091471\n",
            "0.6569839307787392\n",
            "0.6971569839307787\n",
            "0.6965389369592089\n",
            "0.669344870210136\n",
            "0.7237330037082819\n",
            "0.676761433868974\n",
            "0.7367119901112484\n",
            "0.7021013597033374\n",
            "0.6946847960444994\n",
            "0.7082818294190358\n",
            "0.6718170580964153\n",
            "0.6711990111248455\n",
            "0.6668726823238567\n",
            "0.7119901112484549\n",
            "0.646477132262052\n",
            "0.6736711990111248\n",
            "0.6718170580964153\n",
            "0.6427688504326329\n",
            "0.6662546353522868\n",
            "0.6761433868974042\n",
            "0.6946847960444994\n",
            "0.622991347342398\n",
            "0.5970333745364648\n",
            "0.7064276885043264\n",
            "0.6983930778739185\n",
            "0.6817058096415327\n",
            "0.6551297898640297\n",
            "0.646477132262052\n",
            "0.634734239802225\n",
            "0.6520395550061805\n",
            "0.6563658838071693\n",
            "0.6946847960444994\n",
            "0.6804697156983931\n",
            "0.695920889987639\n",
            "0.7021013597033374\n",
            "0.6532756489493201\n",
            "0.6582200247218789\n",
            "0.6409147095179234\n",
            "0.6483312731767614\n",
            "0.6582200247218789\n",
            "0.6878862793572311\n",
            "0.7428924598269468\n",
            "0.6749072929542645\n",
            "0.7070457354758962\n",
            "0.6594561186650185\n",
            "0.6953028430160693\n",
            "0.6804697156983931\n",
            "0.703955500618047\n",
            "0.7045735475896168\n",
            "0.6817058096415327\n",
            "0.6934487021013597\n",
            "0.7070457354758962\n",
            "0.6545117428924598\n",
            "0.6779975278121138\n",
            "0.7237330037082819\n",
            "0.6545117428924598\n",
            "0.6594561186650185\n",
            "0.6872682323856613\n",
            "0.711372064276885\n",
            "0.6829419035846724\n",
            "0.73053152039555\n",
            "0.7088998763906057\n",
            "la variance de la valeur accuracy sur 100 tirages  0.025789422766895456\n"
          ]
        }
      ],
      "source": [
        "N = 100\n",
        "accuracies = []\n",
        "for i in range(N):\n",
        "    X_train, X_test, y_train, y_test = train_test_split(X, y, test_size=0.90)\n",
        "    clf = tree.DecisionTreeClassifier()\n",
        "    clf.fit(X_train, y_train)\n",
        "    Z = clf.predict(X_test)\n",
        "    accuracies.append(clf.score(X_test,y_test))\n",
        "    print(accuracies[i])\n",
        "    var=np.std(accuracies)\n",
        "print(\"la variance de la valeur accuracy sur 100 tirages \",var)"
      ]
    },
    {
      "cell_type": "code",
      "execution_count": null,
      "id": "6d22dc9d",
      "metadata": {
        "id": "6d22dc9d"
      },
      "outputs": [],
      "source": [
        "#classifieur bagging \n",
        "Bclf = BaggingClassifier(tree.DecisionTreeClassifier(),\n",
        "                        max_samples=0.5, max_features=0.5, n_estimators=200)"
      ]
    },
    {
      "cell_type": "code",
      "execution_count": null,
      "id": "355cc79d",
      "metadata": {
        "colab": {
          "base_uri": "https://localhost:8080/"
        },
        "id": "355cc79d",
        "outputId": "9b1329c6-544d-4dcc-8b9d-281d088ffc7c"
      },
      "outputs": [
        {
          "output_type": "stream",
          "name": "stdout",
          "text": [
            "0.7088998763906057\n"
          ]
        }
      ],
      "source": [
        "Bclf.fit(X_train,y_train)\n",
        "Bclf.predict(X_test)\n",
        "accuracy=clf.score(X_test,y_test)\n",
        "print(accuracy)"
      ]
    },
    {
      "cell_type": "code",
      "execution_count": null,
      "id": "7a3ab491",
      "metadata": {
        "colab": {
          "base_uri": "https://localhost:8080/"
        },
        "id": "7a3ab491",
        "outputId": "1ee049d4-4ace-4674-d2bd-c0348e22e1a4"
      },
      "outputs": [
        {
          "output_type": "stream",
          "name": "stdout",
          "text": [
            "0.8943139678615575\n",
            "0.9066749072929543\n",
            "0.8912237330037083\n",
            "0.8788627935723115\n",
            "0.9023485784919654\n",
            "0.9184177997527813\n",
            "0.880716934487021\n",
            "0.9048207663782447\n",
            "0.8936959208899876\n",
            "0.8887515451174289\n",
            "0.8584672435105068\n",
            "0.8912237330037083\n",
            "0.8522867737948084\n",
            "0.911619283065513\n",
            "0.896168108776267\n",
            "0.8671199011124846\n",
            "0.9103831891223733\n",
            "0.877008652657602\n",
            "0.899876390605686\n",
            "0.8566131025957973\n",
            "0.8980222496909765\n",
            "0.9035846724351051\n",
            "0.8763906056860321\n",
            "0.8868974042027195\n",
            "0.880716934487021\n",
            "0.907292954264524\n",
            "0.880716934487021\n",
            "0.9029666254635352\n",
            "0.8893695920889988\n",
            "0.8912237330037083\n",
            "0.9035846724351051\n",
            "0.8955500618046972\n",
            "0.877008652657602\n",
            "0.9085290482076638\n",
            "0.8943139678615575\n",
            "0.9054388133498146\n",
            "0.9029666254635352\n",
            "0.911619283065513\n",
            "0.8491965389369592\n",
            "0.9110012360939431\n",
            "0.8881334981458591\n",
            "0.8862793572311496\n",
            "0.9029666254635352\n",
            "0.8782447466007417\n",
            "0.8868974042027195\n",
            "0.907292954264524\n",
            "0.8936959208899876\n",
            "0.9128553770086527\n",
            "0.8547589616810878\n",
            "0.8850432632880099\n",
            "0.904202719406675\n",
            "0.9011124845488258\n",
            "0.9140914709517923\n",
            "0.9054388133498146\n",
            "0.9066749072929543\n",
            "0.8646477132262052\n",
            "0.8936959208899876\n",
            "0.8838071693448702\n",
            "0.8831891223733004\n",
            "0.8763906056860321\n",
            "0.9128553770086527\n",
            "0.9004944375772559\n",
            "0.907292954264524\n",
            "0.8862793572311496\n",
            "0.8918417799752781\n",
            "0.892459826946848\n",
            "0.9196538936959209\n",
            "0.8572311495673671\n",
            "0.8763906056860321\n",
            "0.8708281829419036\n",
            "0.8918417799752781\n",
            "0.9221260815822002\n",
            "0.9004944375772559\n",
            "0.9147095179233622\n",
            "0.8912237330037083\n",
            "0.9054388133498146\n",
            "0.8893695920889988\n",
            "0.8899876390605687\n",
            "0.8559950556242274\n",
            "0.8634116192830655\n",
            "0.9004944375772559\n",
            "0.8936959208899876\n",
            "0.8726823238566132\n",
            "0.88442521631644\n",
            "0.8800988875154512\n",
            "0.9066749072929543\n",
            "0.8572311495673671\n",
            "0.8992583436341162\n",
            "0.8967861557478368\n",
            "0.8386897404202719\n",
            "0.8974042027194067\n",
            "0.911619283065513\n",
            "0.8838071693448702\n",
            "0.8850432632880099\n",
            "0.9011124845488258\n",
            "0.9079110012360939\n",
            "0.9017305315203955\n",
            "0.8906056860321384\n",
            "0.9029666254635352\n",
            "0.8813349814585909\n",
            "la variance de la valeur accuracy sur 100 tirages  0.017261979998407413\n"
          ]
        }
      ],
      "source": [
        "N = 100\n",
        "Baccuracies = []\n",
        "for i in range(N):\n",
        "    X_train, X_test, y_train, y_test = train_test_split(X, y, test_size=0.90)\n",
        "    Bclf = BaggingClassifier(tree.DecisionTreeClassifier(),\n",
        "                        max_samples=0.5, max_features=0.5, n_estimators=200)\n",
        "    Bclf.fit(X_train, y_train)\n",
        "    Z = Bclf.predict(X_test)\n",
        "    Baccuracies.append(Bclf.score(X_test,y_test))\n",
        "    print(Baccuracies[i])\n",
        "    Bvar=np.std(Baccuracies)\n",
        "print(\"la variance de la valeur accuracy sur 100 tirages \",Bvar)"
      ]
    },
    {
      "cell_type": "code",
      "execution_count": null,
      "id": "efc633e8",
      "metadata": {
        "colab": {
          "base_uri": "https://localhost:8080/"
        },
        "id": "efc633e8",
        "outputId": "cec6efd8-49e0-4c23-add2-4c00981da200"
      },
      "outputs": [
        {
          "output_type": "stream",
          "name": "stdout",
          "text": [
            "0.008527442768488044\n"
          ]
        }
      ],
      "source": [
        "#Variance*\n",
        "print(var-Bvar)"
      ]
    },
    {
      "cell_type": "code",
      "execution_count": null,
      "id": "f7589fea",
      "metadata": {
        "scrolled": true,
        "colab": {
          "base_uri": "https://localhost:8080/"
        },
        "id": "f7589fea",
        "outputId": "439ded85-c267-4e5d-8ea0-19565137f386"
      },
      "outputs": [
        {
          "output_type": "stream",
          "name": "stdout",
          "text": [
            "[0.5550061804697157, 0.8498145859085291, 0.8899876390605687, 0.9060568603213844, 0.9029666254635352, 0.9091470951792336, 0.915327564894932, 0.9085290482076638, 0.911619283065513, 0.9165636588380717, 0.904202719406675, 0.907292954264524, 0.9103831891223733, 0.9122373300370828, 0.9122373300370828, 0.9097651421508035, 0.9165636588380717, 0.9110012360939431, 0.9165636588380717, 0.911619283065513, 0.9122373300370828, 0.9177997527812114, 0.9147095179233622, 0.9165636588380717, 0.9103831891223733]\n"
          ]
        }
      ],
      "source": [
        "#le graphique accuracy vs n_estimators\n",
        "Accur=[]\n",
        "X_train, X_test, y_train, y_test = train_test_split(X, y, test_size=0.90,random_state=0)\n",
        "for i in range(2,500,20):\n",
        "    clf1 = BaggingClassifier(tree.DecisionTreeClassifier(),\n",
        "                        max_samples=0.5, max_features=0.5, n_estimators=i) \n",
        "   \n",
        "    clf1.fit(X_train, y_train)\n",
        "    Z = clf1.predict(X_test)\n",
        "    Accur.append(clf1.score(X_test,y_test))\n",
        "print(Accur)\n",
        "    \n",
        "    "
      ]
    },
    {
      "cell_type": "code",
      "execution_count": null,
      "id": "a8e84bac",
      "metadata": {
        "colab": {
          "base_uri": "https://localhost:8080/",
          "height": 295
        },
        "id": "a8e84bac",
        "outputId": "4f76a267-dc77-402a-9122-7821443c05dc"
      },
      "outputs": [
        {
          "output_type": "display_data",
          "data": {
            "text/plain": [
              "<Figure size 432x288 with 1 Axes>"
            ],
            "image/png": "[encoded data removed]"
          },
          "metadata": {
            "needs_background": "light"
          }
        }
      ],
      "source": [
        "import matplotlib.pyplot as plt\n",
        "import numpy as np\n",
        "plt.plot(range(2,500,20),Accur)\n",
        "plt.title(\"le graphique accuracy vs n_estimators\")\n",
        "plt.xlabel(\"Num estimateur\")\n",
        "plt.ylabel(\"Accuracy\")\n",
        "plt.show()\n"
      ]
    },
    {
      "cell_type": "code",
      "execution_count": null,
      "id": "c24e00ac",
      "metadata": {
        "colab": {
          "base_uri": "https://localhost:8080/"
        },
        "id": "c24e00ac",
        "outputId": "3ad75912-0646-4334-e00c-7e66085393f8"
      },
      "outputs": [
        {
          "output_type": "stream",
          "name": "stdout",
          "text": [
            "Meilleur score : 0.8417799752781211\n",
            "max_samples: 0.8\n",
            "max_features: 0.8\n"
          ]
        }
      ],
      "source": [
        "#GridSearch\n",
        "from sklearn.model_selection import GridSearchCV\n",
        "para = {\n",
        "    'max_features' : [0.2,0.4,0.6,0.8],\n",
        "    'max_samples' : [0.2,0.4,0.6,0.8]\n",
        "    }\n",
        "\n",
        "clf = GridSearchCV(BaggingClassifier(tree.DecisionTreeClassifier()), param_grid=para, cv=5)\n",
        "clf.fit(X_train,y_train)\n",
        "print(\"Meilleur score : \" + str(clf.best_estimator_.score(X_test, y_test)))\n",
        "print(\"max_samples: \" + str(clf.best_estimator_.max_samples))\n",
        "print(\"max_features: \" + str(clf.best_estimator_.max_features))\n",
        "\n",
        "\n",
        "\n",
        "\n"
      ]
    },
    {
      "cell_type": "code",
      "execution_count": null,
      "id": "e30879da",
      "metadata": {
        "colab": {
          "base_uri": "https://localhost:8080/"
        },
        "id": "e30879da",
        "outputId": "2c3cfd68-03dd-4711-f9ba-8ea40c874cd3"
      },
      "outputs": [
        {
          "output_type": "stream",
          "name": "stdout",
          "text": [
            "{'max_features': 0.8, 'max_samples': 0.8}\n"
          ]
        }
      ],
      "source": [
        "print(clf.best_params_)"
      ]
    },
    {
      "cell_type": "markdown",
      "source": [
        "# **Forêts** **aléatoires**"
      ],
      "metadata": {
        "id": "xPZH9kh85Llw"
      },
      "id": "xPZH9kh85Llw"
    },
    {
      "cell_type": "code",
      "source": [
        "digits = load_digits()\n",
        "X, y = digits.data, digits.target\n",
        "from sklearn.model_selection import train_test_split\n",
        "X_train,X_test,y_train,y_test=train_test_split(X,y,test_size=0.90)"
      ],
      "metadata": {
        "id": "K-nnvPzl5GGi"
      },
      "id": "K-nnvPzl5GGi",
      "execution_count": null,
      "outputs": []
    },
    {
      "cell_type": "code",
      "source": [
        "from sklearn.ensemble import RandomForestClassifier\n",
        "clf=RandomForestClassifier(n_estimators=200)\n",
        "clf.fit(X_train,y_train)"
      ],
      "metadata": {
        "colab": {
          "base_uri": "https://localhost:8080/"
        },
        "id": "OhYxY1ry5zvm",
        "outputId": "c269db6f-cf78-4bbc-f976-37e57a2e4281"
      },
      "id": "OhYxY1ry5zvm",
      "execution_count": null,
      "outputs": [
        {
          "output_type": "execute_result",
          "data": {
            "text/plain": [
              "RandomForestClassifier(n_estimators=200)"
            ]
          },
          "metadata": {},
          "execution_count": 19
        }
      ]
    },
    {
      "cell_type": "code",
      "source": [
        "y_predi=clf.predict(X_test)\n",
        "accuracy=clf.score(X_test,y_test)\n",
        "print(accuracy)"
      ],
      "metadata": {
        "colab": {
          "base_uri": "https://localhost:8080/"
        },
        "id": "jGTW1Mf28t0O",
        "outputId": "9bd1c966-a215-4ea2-b18a-830be03c26a0"
      },
      "id": "jGTW1Mf28t0O",
      "execution_count": null,
      "outputs": [
        {
          "output_type": "stream",
          "name": "stdout",
          "text": [
            "0.8714462299134734\n"
          ]
        }
      ]
    },
    {
      "cell_type": "code",
      "source": [
        "N = 100\n",
        "Tabaccuracy = []\n",
        "for i in range(N):\n",
        "    rclf = RandomForestClassifier(n_estimators=200)\n",
        "    rclf.fit(X_train, y_train)\n",
        "    Z = rclf.predict(X_test)\n",
        "    Tabaccuracy.append(rclf.score(X_test,y_test))\n",
        "    print(Tabaccuracy[i])\n",
        "    rvar=np.std(Tabaccuracy)\n",
        "print(\"la variance de la valeur accuracy sur 100 tirages \",rvar)"
      ],
      "metadata": {
        "colab": {
          "base_uri": "https://localhost:8080/"
        },
        "id": "1OGtXvFY9ENI",
        "outputId": "6961a3b4-e0b8-4148-dfb5-21e7fe049daa"
      },
      "id": "1OGtXvFY9ENI",
      "execution_count": null,
      "outputs": [
        {
          "output_type": "stream",
          "name": "stdout",
          "text": [
            "0.8763906056860321\n",
            "0.8658838071693449\n",
            "0.8726823238566132\n",
            "0.8634116192830655\n",
            "0.8776266996291718\n",
            "0.8708281829419036\n",
            "0.8757725587144622\n",
            "0.8702101359703337\n",
            "0.8763906056860321\n",
            "0.8714462299134734\n",
            "0.877008652657602\n",
            "0.8757725587144622\n",
            "0.8689740420271941\n",
            "0.8640296662546354\n",
            "0.8720642768850433\n",
            "0.8640296662546354\n",
            "0.8683559950556242\n",
            "0.8683559950556242\n",
            "0.8683559950556242\n",
            "0.8739184177997528\n",
            "0.8708281829419036\n",
            "0.8745364647713226\n",
            "0.8689740420271941\n",
            "0.869592088998764\n",
            "0.8782447466007417\n",
            "0.8800988875154512\n",
            "0.8671199011124846\n",
            "0.8726823238566132\n",
            "0.8726823238566132\n",
            "0.8794808405438813\n",
            "0.8671199011124846\n",
            "0.8683559950556242\n",
            "0.8757725587144622\n",
            "0.8788627935723115\n",
            "0.8609394313967862\n",
            "0.8689740420271941\n",
            "0.8720642768850433\n",
            "0.8720642768850433\n",
            "0.8745364647713226\n",
            "0.8714462299134734\n",
            "0.8745364647713226\n",
            "0.8720642768850433\n",
            "0.8739184177997528\n",
            "0.8646477132262052\n",
            "0.8702101359703337\n",
            "0.8726823238566132\n",
            "0.8714462299134734\n",
            "0.8776266996291718\n",
            "0.8726823238566132\n",
            "0.8751545117428925\n",
            "0.8689740420271941\n",
            "0.8646477132262052\n",
            "0.8708281829419036\n",
            "0.869592088998764\n",
            "0.877008652657602\n",
            "0.8714462299134734\n",
            "0.8720642768850433\n",
            "0.8708281829419036\n",
            "0.8714462299134734\n",
            "0.8683559950556242\n",
            "0.8665018541409147\n",
            "0.8646477132262052\n",
            "0.8708281829419036\n",
            "0.8671199011124846\n",
            "0.8726823238566132\n",
            "0.8757725587144622\n",
            "0.8597033374536465\n",
            "0.8745364647713226\n",
            "0.8782447466007417\n",
            "0.8665018541409147\n",
            "0.8800988875154512\n",
            "0.865265760197775\n",
            "0.8658838071693449\n",
            "0.8714462299134734\n",
            "0.8739184177997528\n",
            "0.8714462299134734\n",
            "0.877008652657602\n",
            "0.877008652657602\n",
            "0.8714462299134734\n",
            "0.8751545117428925\n",
            "0.8751545117428925\n",
            "0.8819530284301607\n",
            "0.8788627935723115\n",
            "0.8726823238566132\n",
            "0.8782447466007417\n",
            "0.8757725587144622\n",
            "0.8739184177997528\n",
            "0.8739184177997528\n",
            "0.8776266996291718\n",
            "0.8634116192830655\n",
            "0.8739184177997528\n",
            "0.8733003708281829\n",
            "0.8726823238566132\n",
            "0.8683559950556242\n",
            "0.8714462299134734\n",
            "0.8714462299134734\n",
            "0.8646477132262052\n",
            "0.8689740420271941\n",
            "0.8739184177997528\n",
            "0.8739184177997528\n",
            "la variance de la valeur accuracy sur 100 tirages  0.0045393604160845116\n"
          ]
        }
      ]
    },
    {
      "cell_type": "code",
      "source": [
        "#le graphique accuracy vs n_estimators\n",
        "Accur=[]\n",
        "X_train, X_test, y_train, y_test = train_test_split(X, y, test_size=0.90,random_state=0)\n",
        "for i in range(2,500,20):\n",
        "    clf1 = RandomForestClassifier(n_estimators=i) \n",
        "    clf1.fit(X_train, y_train)\n",
        "    Z = clf1.predict(X_test)\n",
        "    Accur.append(clf1.score(X_test,y_test))\n",
        "print(Accur)"
      ],
      "metadata": {
        "colab": {
          "base_uri": "https://localhost:8080/"
        },
        "id": "AlxbLfxTQHxh",
        "outputId": "26769a00-f505-4076-ed8d-c8e8b392e315"
      },
      "id": "AlxbLfxTQHxh",
      "execution_count": null,
      "outputs": [
        {
          "output_type": "stream",
          "name": "stdout",
          "text": [
            "[0.6291718170580964, 0.9023485784919654, 0.9134734239802225, 0.9227441285537701, 0.9264524103831892, 0.9239802224969098, 0.9245982694684796, 0.9258343634116193, 0.927070457354759, 0.9295426452410384, 0.9326328800988876, 0.9245982694684796, 0.9252163164400494, 0.9245982694684796, 0.9245982694684796, 0.9295426452410384, 0.92336217552534, 0.930778739184178, 0.9301606922126081, 0.9258343634116193, 0.9276885043263288, 0.9258343634116193, 0.9295426452410384, 0.9289245982694685, 0.9320148331273177]\n"
          ]
        }
      ]
    },
    {
      "cell_type": "code",
      "source": [
        "import matplotlib.pyplot as plt\n",
        "import numpy as np\n",
        "plt.plot(range(2,500,20),Accur)\n",
        "plt.title(\"le graphique accuracy vs n_estimators\")\n",
        "plt.xlabel(\"Num estimateur\")\n",
        "plt.ylabel(\"Accuracy\")\n",
        "plt.show()"
      ],
      "metadata": {
        "colab": {
          "base_uri": "https://localhost:8080/",
          "height": 295
        },
        "id": "o_F0K4zVT3YF",
        "outputId": "55c787a7-3405-4f4a-bb79-6c8715d7dda0"
      },
      "id": "o_F0K4zVT3YF",
      "execution_count": null,
      "outputs": [
        {
          "output_type": "display_data",
          "data": {
            "text/plain": [
              "<Figure size 432x288 with 1 Axes>"
            ],
            "image/png": "[encoded data removed]"
          },
          "metadata": {
            "needs_background": "light"
          }
        }
      ]
    },
    {
      "cell_type": "code",
      "source": [
        "from sklearn.ensemble import ExtraTreesClassifier\n",
        "clf=ExtraTreesClassifier(n_estimators=200)\n",
        "clf.fit(X_train,y_train)\n",
        "predic=clf.predict(X_test)\n",
        "print(\"Accuracy:\",clf.score(X_test,y_test))"
      ],
      "metadata": {
        "colab": {
          "base_uri": "https://localhost:8080/"
        },
        "id": "3b7qu96XUNlM",
        "outputId": "dee58c69-41d8-46ad-c073-368817472e2a"
      },
      "id": "3b7qu96XUNlM",
      "execution_count": null,
      "outputs": [
        {
          "output_type": "stream",
          "name": "stdout",
          "text": [
            "Accuracy: 0.9437577255871447\n"
          ]
        }
      ]
    },
    {
      "cell_type": "code",
      "source": [],
      "metadata": {
        "id": "lr8Tjx5jVI3K"
      },
      "id": "lr8Tjx5jVI3K",
      "execution_count": null,
      "outputs": []
    },
    {
      "cell_type": "markdown",
      "source": [
        "# Boosting"
      ],
      "metadata": {
        "id": "64EZ32nBVR-A"
      },
      "id": "64EZ32nBVR-A"
    },
    {
      "cell_type": "code",
      "source": [
        "from sklearn.ensemble import AdaBoostClassifier\n",
        "digits = load_digits()\n",
        "X, y = digits.data, digits.target\n",
        "X_train, X_test, y_train, y_test = train_test_split(X, y, test_size=0.90)\n",
        "# AdaBoost basé sur 200 arbres de décision\n",
        "clf =AdaBoostClassifier(base_estimator=tree.DecisionTreeClassifier(max_depth=6),\n",
        "n_estimators=200, learning_rate=2)\n",
        "clf.fit(X_train, y_train)\n",
        "accuracy = clf.score(X_test, y_test)\n",
        "print(accuracy)"
      ],
      "metadata": {
        "colab": {
          "base_uri": "https://localhost:8080/"
        },
        "id": "geLA_MGFViG1",
        "outputId": "f7abf44d-9bd1-4b6c-fd52-0d75bb0bbe2c"
      },
      "id": "geLA_MGFViG1",
      "execution_count": null,
      "outputs": [
        {
          "output_type": "stream",
          "name": "stdout",
          "text": [
            "0.9054388133498146\n"
          ]
        }
      ]
    },
    {
      "cell_type": "code",
      "source": [
        "from sklearn.ensemble import AdaBoostClassifier\n",
        "digits = load_digits()\n",
        "X, y = digits.data, digits.target\n",
        "X_train, X_test, y_train, y_test = train_test_split(X, y, test_size=0.90)\n",
        "# AdaBoost basé sur 200 arbres de décision\n",
        "clf =AdaBoostClassifier(base_estimator=tree.DecisionTreeClassifier(max_depth=2),\n",
        "n_estimators=200, learning_rate=2)\n",
        "clf.fit(X_train, y_train)\n",
        "accuracy = clf.score(X_test, y_test)\n",
        "print(accuracy)"
      ],
      "metadata": {
        "id": "1h5lykLAVq4_",
        "colab": {
          "base_uri": "https://localhost:8080/"
        },
        "outputId": "b9827195-9ac8-4577-d655-825cb76191ee"
      },
      "id": "1h5lykLAVq4_",
      "execution_count": null,
      "outputs": [
        {
          "output_type": "stream",
          "name": "stdout",
          "text": [
            "0.7941903584672435\n"
          ]
        }
      ]
    },
    {
      "cell_type": "code",
      "source": [
        "from sklearn.ensemble import AdaBoostClassifier\n",
        "digits = load_digits()\n",
        "X, y = digits.data, digits.target\n",
        "X_train, X_test, y_train, y_test = train_test_split(X, y, test_size=0.90)\n",
        "# AdaBoost basé sur 200 arbres de décision\n",
        "clf =AdaBoostClassifier(base_estimator=tree.DecisionTreeClassifier(max_depth=10),\n",
        "n_estimators=200, learning_rate=2)\n",
        "clf.fit(X_train, y_train)\n",
        "accuracy = clf.score(X_test, y_test)\n",
        "print(accuracy)"
      ],
      "metadata": {
        "colab": {
          "base_uri": "https://localhost:8080/"
        },
        "id": "3vCs6fFeVXHr",
        "outputId": "1e76f633-56be-4b77-e5e0-1fddf7a2620c"
      },
      "id": "3vCs6fFeVXHr",
      "execution_count": null,
      "outputs": [
        {
          "output_type": "stream",
          "name": "stdout",
          "text": [
            "0.700247218788628\n"
          ]
        }
      ]
    },
    {
      "cell_type": "code",
      "source": [
        "from sklearn.ensemble import AdaBoostClassifier\n",
        "digits = load_digits()\n",
        "X, y = digits.data, digits.target\n",
        "X_train, X_test, y_train, y_test = train_test_split(X, y, test_size=0.90)\n",
        "# AdaBoost basé sur 200 arbres de décision\n",
        "clf =AdaBoostClassifier(base_estimator=tree.DecisionTreeClassifier(max_depth=3),\n",
        "n_estimators=200, learning_rate=2)\n",
        "clf.fit(X_train, y_train)\n",
        "accuracy = clf.score(X_test, y_test)\n",
        "print(accuracy)"
      ],
      "metadata": {
        "colab": {
          "base_uri": "https://localhost:8080/"
        },
        "id": "N-TfPb-CVaZD",
        "outputId": "e1e4b3ba-9ed2-4799-96c1-358724ec53a3"
      },
      "id": "N-TfPb-CVaZD",
      "execution_count": null,
      "outputs": [
        {
          "output_type": "stream",
          "name": "stdout",
          "text": [
            "0.8726823238566132\n"
          ]
        }
      ]
    },
    {
      "cell_type": "markdown",
      "source": [
        "CHANGER Nombre d'estimateur"
      ],
      "metadata": {
        "id": "QHh01kLLU6mL"
      },
      "id": "QHh01kLLU6mL"
    },
    {
      "cell_type": "code",
      "source": [
        "from sklearn.ensemble import AdaBoostClassifier\n",
        "digits = load_digits()\n",
        "X, y = digits.data, digits.target\n",
        "X_train, X_test, y_train, y_test = train_test_split(X, y, test_size=0.90)\n",
        "# AdaBoost basé sur 200 arbres de décision\n",
        "clf =AdaBoostClassifier(base_estimator=tree.DecisionTreeClassifier(max_depth=1),\n",
        "n_estimators=200, learning_rate=2)\n",
        "clf.fit(X_train, y_train)\n",
        "accuracy = clf.score(X_test, y_test)\n",
        "print(accuracy)"
      ],
      "metadata": {
        "id": "WppXHkyMWuYd",
        "colab": {
          "base_uri": "https://localhost:8080/"
        },
        "outputId": "af2ad86b-a375-4a17-8663-f57b4b5e1e43"
      },
      "id": "WppXHkyMWuYd",
      "execution_count": null,
      "outputs": [
        {
          "output_type": "stream",
          "name": "stdout",
          "text": [
            "0.7911001236093943\n"
          ]
        }
      ]
    },
    {
      "cell_type": "code",
      "source": [
        "from sklearn.ensemble import AdaBoostClassifier\n",
        "digits = load_digits()\n",
        "X, y = digits.data, digits.target\n",
        "X_train, X_test, y_train, y_test = train_test_split(X, y, test_size=0.90)\n",
        "# AdaBoost basé sur 200 arbres de décision\n",
        "clf =AdaBoostClassifier(base_estimator=tree.DecisionTreeClassifier(max_depth=1),\n",
        "n_estimators=600, learning_rate=2)\n",
        "clf.fit(X_train, y_train)\n",
        "accuracy = clf.score(X_test, y_test)\n",
        "print(accuracy)"
      ],
      "metadata": {
        "colab": {
          "base_uri": "https://localhost:8080/"
        },
        "id": "Cf5Nc1Y3U3Mm",
        "outputId": "1b8feb88-739a-48da-86ed-0e9ccff65729"
      },
      "id": "Cf5Nc1Y3U3Mm",
      "execution_count": null,
      "outputs": [
        {
          "output_type": "stream",
          "name": "stdout",
          "text": [
            "0.84610630407911\n"
          ]
        }
      ]
    },
    {
      "cell_type": "code",
      "source": [],
      "metadata": {
        "id": "GVm6SfYGYkI9"
      },
      "id": "GVm6SfYGYkI9",
      "execution_count": null,
      "outputs": []
    },
    {
      "cell_type": "markdown",
      "source": [
        "change rate learning"
      ],
      "metadata": {
        "id": "ekKTVq-wYQtt"
      },
      "id": "ekKTVq-wYQtt"
    },
    {
      "cell_type": "code",
      "source": [
        "# learning_rate=1\n",
        "clf =AdaBoostClassifier(base_estimator=tree.DecisionTreeClassifier(max_depth=1),\n",
        "n_estimators=300, learning_rate=1)\n",
        "clf.fit(X_train, y_train)\n",
        "accuracy = clf.score(X_test, y_test)\n",
        "print(accuracy)"
      ],
      "metadata": {
        "colab": {
          "base_uri": "https://localhost:8080/"
        },
        "id": "eDRLKF1VYZco",
        "outputId": "9f662e43-ef43-404a-f473-78976a12af4c"
      },
      "id": "eDRLKF1VYZco",
      "execution_count": null,
      "outputs": [
        {
          "output_type": "stream",
          "name": "stdout",
          "text": [
            "0.16007416563658838\n"
          ]
        }
      ]
    },
    {
      "cell_type": "code",
      "source": [
        "# learning_rate=0.5\n",
        "clf =AdaBoostClassifier(base_estimator=tree.DecisionTreeClassifier(max_depth=1),\n",
        "n_estimators=300, learning_rate=0.5)\n",
        "clf.fit(X_train, y_train)\n",
        "accuracy = clf.score(X_test, y_test)\n",
        "print(accuracy)"
      ],
      "metadata": {
        "colab": {
          "base_uri": "https://localhost:8080/"
        },
        "id": "JG6q4IQBYhOn",
        "outputId": "9c84d168-a0b9-4476-c831-f6ae9bac7e05"
      },
      "id": "JG6q4IQBYhOn",
      "execution_count": null,
      "outputs": [
        {
          "output_type": "stream",
          "name": "stdout",
          "text": [
            "0.7985166872682324\n"
          ]
        }
      ]
    },
    {
      "cell_type": "code",
      "source": [
        "# learning_rate=0.1\n",
        "clf =AdaBoostClassifier(base_estimator=tree.DecisionTreeClassifier(max_depth=1),\n",
        "n_estimators=300, learning_rate=0.1)\n",
        "clf.fit(X_train, y_train)\n",
        "accuracy = clf.score(X_test, y_test)\n",
        "print(accuracy)"
      ],
      "metadata": {
        "colab": {
          "base_uri": "https://localhost:8080/"
        },
        "id": "tEtgzLz-WbiM",
        "outputId": "8d6157c3-efb9-40ba-e4ea-03e8f2285865"
      },
      "id": "tEtgzLz-WbiM",
      "execution_count": null,
      "outputs": [
        {
          "output_type": "stream",
          "name": "stdout",
          "text": [
            "0.8009888751545118\n"
          ]
        }
      ]
    },
    {
      "cell_type": "code",
      "source": [],
      "metadata": {
        "id": "kcb9nuLQYsJN"
      },
      "id": "kcb9nuLQYsJN",
      "execution_count": null,
      "outputs": []
    }
  ],
  "metadata": {
    "kernelspec": {
      "display_name": "Python 3 (ipykernel)",
      "language": "python",
      "name": "python3"
    },
    "language_info": {
      "codemirror_mode": {
        "name": "ipython",
        "version": 3
      },
      "file_extension": ".py",
      "mimetype": "text/x-python",
      "name": "python",
      "nbconvert_exporter": "python",
      "pygments_lexer": "ipython3",
      "version": "3.9.12"
    },
    "colab": {
      "provenance": []
    }
  },
  "nbformat": 4,
  "nbformat_minor": 5
}